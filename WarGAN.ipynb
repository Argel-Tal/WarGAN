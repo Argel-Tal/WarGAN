{
  "cells":[
    {
      "cell_type":"code",
      "source":[
        "# necessary imports for code functions\n",
        "import matplotlib.pyplot as plt \n",
        "\n",
        "from numpy import expand_dims\n",
        "from numpy import zeros\n",
        "from numpy import ones\n",
        "\n",
        "from numpy.random import randn\n",
        "from numpy.random import randint\n",
        "\n",
        "import tensorflow as tf \n",
        "from tensorflow import keras\n",
        "from keras.optimizers import Adam\n",
        "from keras.layers import Dense\n",
        "from keras.layers import Reshape\n",
        "from keras.layers import Flatten\n",
        "from keras.layers import Conv2D\n",
        "from keras.layers import Conv2DTranspose\n",
        "from keras.layers import LeakyReLU\n",
        "from keras.layers import Dropout\n",
        "from keras.layers import Input\n",
        "from keras.layers import Embedding\n",
        "from keras.layers import Concatenate\n",
        "\n",
        "from keras.models import Sequential\n",
        "from keras.models import load_model\n",
        "from keras.models import Model\n",
        "\n",
        "from PIL import Image\n",
        "import numpy as np\n",
        "import os\n",
        "import pandas as pd \n",
        "\n",
        "from tqdm import tqdm \n",
        "from IPython import display \n",
        "\n",
        "import torch\n",
        "\n",
        "# utility import\n",
        "# !pip install os\n",
        "# !pip install icecream\n",
        "# !pip install pyyaml h5py  # Required to save models in HDF5 format\n",
        "from icecream import ic\n",
        "import time\n"
      ],
      "execution_count":65,
      "outputs":[
        
      ],
      "metadata":{
        
      }
    },
    {
      "cell_type":"code",
      "source":[
        "\"\"\"\n",
        "Process:\n",
        "1. convert images to black and white \n",
        "2. resize the images\n",
        "3. convert them into numpy array using imread  \n",
        "\"\"\"\n",
        "\n",
        "\n",
        "# default values of standardised images\n",
        "preferred_width = 200\n",
        "preferred_height = 200\n",
        "\n",
        "pathSource = \"\/data\/workspace_files\/igTest\"\n",
        "pathDest = \"\/data\/workspace_files\/BnWImages\"\n",
        "# list all objects in pathSource\n",
        "dir_list = os.listdir(pathSource) \n",
        "\n",
        "# create list, to contain all standardised images; values [0:1], instead of [0:255]\n",
        "data = []\n",
        "images = []\n",
        "\n",
        "# for image in pathSource, convert them to BnW, save that to pathDest, then add standardised version to images[]\n",
        "for image in dir_list:\n",
        "    img = Image.open(pathSource+\"\/\"+image).convert('L').resize((preferred_width, preferred_height), Image.ANTIALIAS)\n",
        "    imgArray = np.array(img) # int array of pixels\n",
        "    imgArray = imgArray.astype('float32')\/255\n",
        "    imgArray[0] = torch.from_numpy(imgArray[0])\n",
        "    imgArray[1] = torch.from_numpy(imgArray[1])\n",
        "    img.save(pathDest+\"\/BnW\"+image, \"JPEG\")\n",
        "    data = imgArray,1\n",
        "    images.append(data)\n",
        "\n",
        "\n",
        "# diagnostic checks of images[]\n",
        "print(len(images))\n",
        "print(np.shape(images))\n",
        "# image pixel states\n",
        "print(images[0][0])"
      ],
      "execution_count":143,
      "outputs":[
        {
          "name":"stdout",
          "text":[
            "10\n",
            "(10, 2)\n",
            "[[0.4627451  0.4627451  0.4627451  ... 0.3647059  0.3647059  0.3647059 ]\n",
            " [0.4627451  0.4627451  0.4627451  ... 0.3647059  0.3647059  0.3647059 ]\n",
            " [0.46666667 0.46666667 0.46666667 ... 0.3647059  0.3647059  0.3529412 ]\n",
            " ...\n",
            " [0.4745098  0.47058824 0.4627451  ... 0.3764706  0.3764706  0.3764706 ]\n",
            " [0.46666667 0.47058824 0.45882353 ... 0.3882353  0.38039216 0.38431373]\n",
            " [0.4627451  0.47058824 0.4627451  ... 0.38431373 0.3882353  0.39215687]]\n"
          ],
          "output_type":"stream"
        }
      ],
      "metadata":{
        
      }
    },
    {
      "cell_type":"code",
      "source":[
        "X_testing = np.array(images[0:2])\n",
        "X_training = np.array(images[2:len(images)])\n",
        "\n",
        "print(np.shape(X_testing))\n",
        "print(np.shape(X_training))"
      ],
      "execution_count":144,
      "outputs":[
        {
          "name":"stdout",
          "text":[
            "(2, 2)\n",
            "(8, 2)\n"
          ],
          "output_type":"stream"
        },
        {
          "name":"stderr",
          "text":[
            "\/opt\/anaconda3\/envs\/datalore-user\/lib\/python3.7\/site-packages\/ipykernel_launcher.py:1: VisibleDeprecationWarning: Creating an ndarray from ragged nested sequences (which is a list-or-tuple of lists-or-tuples-or ndarrays with different lengths or shapes) is deprecated. If you meant to do this, you must specify 'dtype=object' when creating the ndarray\n",
            "  \"\"\"Entry point for launching an IPython kernel.\n",
            "\/opt\/anaconda3\/envs\/datalore-user\/lib\/python3.7\/site-packages\/ipykernel_launcher.py:2: VisibleDeprecationWarning: Creating an ndarray from ragged nested sequences (which is a list-or-tuple of lists-or-tuples-or ndarrays with different lengths or shapes) is deprecated. If you meant to do this, you must specify 'dtype=object' when creating the ndarray\n",
            "  \n"
          ],
          "output_type":"stream"
        }
      ],
      "metadata":{
        
      }
    },
    {
      "cell_type":"code",
      "source":[
        "batch_size = 4\n",
        "# This dataset fills a buffer with buffer_size elements, \n",
        "# then randomly samples elements from this buffer,  \n",
        "# replacing the selected elements with new elements. \n",
        "def create_batch(X_training): \n",
        "  dataset = tf.data.Dataset.from_tensor_slices(X_training).shuffle(1000) \n",
        "  # Combines consecutive elements of this dataset into batches. \n",
        "  \n",
        "  dataset = dataset.batch(batch_size, drop_remainder = True).prefetch(1) \n",
        "  # Creates a Dataset that prefetches elements from this dataset \n",
        "  return dataset "
      ],
      "execution_count":98,
      "outputs":[
        
      ],
      "metadata":{
        
      }
    },
    {
      "cell_type":"code",
      "source":[
        "# image recreations\n",
        "import matplotlib.pyplot as plt\n",
        "import matplotlib.cm as cm\n",
        "\n",
        "plt.imshow(np.array(images[5][0]), cmap=cm.gray)\n",
        "#np.array(images[5]) # float values"
      ],
      "execution_count":99,
      "outputs":[
        {
          "data":{
            "text\/plain":[
              "<matplotlib.image.AxesImage at 0x7f63d92ba2d0>"
            ],
            "image\/png":"[encoded data removed]"
          },
          "metadata":{
            "image\/png":{
              "width":0,
              "height":0
            }
          },
          "output_type":"display_data"
        }
      ],
      "metadata":{
        
      }
    },
    {
      "cell_type":"code",
      "source":[
        "# define the standalone discriminator model\n",
        "def define_discriminator(in_shape=(200,200,1)):\n",
        "\tmodel = Sequential()\n",
        "\t# downsample\n",
        "\tmodel.add(Conv2D(128, (3,3), strides=(2,2), padding='same', input_shape=in_shape))\n",
        "\tmodel.add(LeakyReLU(alpha=0.2))\n",
        "\t# downsample\n",
        "\tmodel.add(Conv2D(128, (3,3), strides=(2,2), padding='same'))\n",
        "\tmodel.add(LeakyReLU(alpha=0.2))\n",
        "\t# classifier\n",
        "\tmodel.add(Flatten())\n",
        "\tmodel.add(Dropout(0.4))\n",
        "\tmodel.add(Dense(1, activation='sigmoid'))\n",
        "\t# compile model\n",
        "\topt = Adam(lr=0.0002, beta_1=0.5)\n",
        "\tmodel.compile(loss='binary_crossentropy', optimizer=opt, metrics=['accuracy'])\n",
        "\treturn model"
      ],
      "execution_count":100,
      "outputs":[
        
      ],
      "metadata":{
        
      }
    },
    {
      "cell_type":"code",
      "source":[
        "def define_generator(latent_dim):\n",
        "\tmodel = Sequential()\n",
        "\t# foundation for 50x50 image\n",
        "\tn_nodes = 128 * 50 * 50\n",
        "\tmodel.add(Dense(n_nodes, input_dim=latent_dim))\n",
        "\tmodel.add(LeakyReLU(alpha=0.2))\n",
        "\tmodel.add(Reshape((50, 50, 128)))\n",
        "\t# upsample to 100x100\n",
        "\tmodel.add(Conv2DTranspose(128, (4,4), strides=(2,2), padding='same'))\n",
        "\tmodel.add(LeakyReLU(alpha=0.2))\n",
        "\t# upsample to 200x200\n",
        "\tmodel.add(Conv2DTranspose(128, (4,4), strides=(2,2), padding='same'))\n",
        "\tmodel.add(LeakyReLU(alpha=0.2))\n",
        "\t# generate\n",
        "\tmodel.add(Conv2D(1, (50,50), activation='tanh', padding='same'))\n",
        "\treturn model"
      ],
      "execution_count":101,
      "outputs":[
        
      ],
      "metadata":{
        
      }
    },
    {
      "cell_type":"code",
      "source":[
        "# define the combined generator and discriminator model, for updating the generator\n",
        "def define_gan(generator, discriminator):\n",
        "\t# make weights in the discriminator not trainable\n",
        "\tdiscriminator.trainable = False\n",
        "\t# connect them\n",
        "\tmodel = Sequential()\n",
        "\t# add generator\n",
        "\tmodel.add(generator)\n",
        "\t# add the discriminator\n",
        "\tmodel.add(discriminator)\n",
        "\t# compile model\n",
        "\topt = Adam(lr=0.0002, beta_1=0.5)\n",
        "\tmodel.compile(loss='binary_crossentropy', optimizer=opt)\n",
        "\treturn model"
      ],
      "execution_count":102,
      "outputs":[
        
      ],
      "metadata":{
        
      }
    },
    {
      "cell_type":"code",
      "source":[
        "# generate points in latent space as input for the generator\n",
        "def generate_latent_points(latent_dim, n_samples):\n",
        "\t# generate points in the latent space\n",
        "\tx_input = randn(latent_dim * n_samples)\n",
        "\t# reshape into a batch of inputs for the network\n",
        "\tx_input = x_input.reshape(n_samples, latent_dim)\n",
        "\treturn x_input"
      ],
      "execution_count":103,
      "outputs":[
        
      ],
      "metadata":{
        
      }
    },
    {
      "cell_type":"code",
      "source":[
        "# use the generator to generate n fake examples, with class labels\n",
        "def generate_fake_samples(generator, latent_dim, n_samples):\n",
        "\t# generate points in latent space\n",
        "\tx_input = generate_latent_points(latent_dim, n_samples)\n",
        "\t# predict outputs\n",
        "\tX = generator.predict(x_input)\n",
        "\t# create class labels\n",
        "\ty = zeros((n_samples, 1))\n",
        "\treturn X, y"
      ],
      "execution_count":104,
      "outputs":[
        
      ],
      "metadata":{
        
      }
    },
    {
      "cell_type":"code",
      "source":[
        "# select real samples\n",
        "def generate_real_samples(datasetIn, n_samples):\n",
        "\t# choose random instances\n",
        "\tix = randint(0, datasetIn.shape[0], n_samples)\n",
        "\t# select images\n",
        "\tX = datasetIn[ix][0], y = ones((n_samples, 1))\n",
        "\t# generate class labels\n",
        "\t# y = ones((n_samples, 1))\n",
        "\treturn X, y"
      ],
      "execution_count":170,
      "outputs":[
        
      ],
      "metadata":{
        
      }
    },
    {
      "cell_type":"code",
      "source":[
        "# train the generator and discriminator\n",
        "def train(g_model, d_model, gan_model, dataset, latent_dim, n_epochs=10, n_batch=4):\n",
        "\tbat_per_epo = int(dataset.shape[0] \/ n_batch)\n",
        "\thalf_batch = int(n_batch \/ 2)\n",
        "\t# manually enumerate epochs\n",
        "\tfor i in range(n_epochs):\n",
        "\t\t# enumerate batches over the training set\n",
        "\t\tfor j in range(bat_per_epo):\n",
        "\t\t\t# get randomly selected 'real' samples\n",
        "\t\t\tX_real, y_real = generate_real_samples(dataset, half_batch)\n",
        "\t\t\t# update discriminator model weights\n",
        "\t\t\td_loss1, _ = d_model.train_on_batch(X_real, y_real)\n",
        "\t\t\t# generate 'fake' examples\n",
        "\t\t\tX_fake, y_fake = generate_fake_samples(g_model, latent_dim, half_batch)\n",
        "\t\t\t# update discriminator model weights\n",
        "\t\t\td_loss2, _ = d_model.train_on_batch(X_fake, y_fake)\n",
        "\t\t\t# prepare points in latent space as input for the generator\n",
        "\t\t\tX_gan = generate_latent_points(latent_dim, n_batch)\n",
        "\t\t\t# create inverted labels for the fake samples\n",
        "\t\t\ty_gan = ones((n_batch, 1))\n",
        "\t\t\t# update the generator via the discriminator's error\n",
        "\t\t\tg_loss = gan_model.train_on_batch(X_gan, y_gan)\n",
        "\t\t\t# summarize loss on this batch\n",
        "\t\t\tprint('>%d, %d\/%d, d1=%.3f, d2=%.3f g=%.3f' %\n",
        "\t\t\t\t(i+1, j+1, bat_per_epo, d_loss1, d_loss2, g_loss))\n",
        "\t# save the generator model\n",
        "\tg_model.save('generator.h5')"
      ],
      "execution_count":171,
      "outputs":[
        
      ],
      "metadata":{
        
      }
    },
    {
      "cell_type":"code",
      "source":[
        "# size of the latent space\n",
        "latent_dim = 100\n",
        "# create the discriminator\n",
        "discriminator = define_discriminator()\n",
        "# create the generator\n",
        "generator = define_generator(latent_dim)\n",
        "# create the gan\n",
        "gan_model = define_gan(generator, discriminator)\n",
        "# load image data\n",
        "dataset = X_training\n",
        "# train model\n",
        "train(generator, discriminator, gan_model, dataset, latent_dim)"
      ],
      "execution_count":169,
      "outputs":[
        {
          "ename":"ValueError",
          "evalue":"ValueError: could not broadcast input array from shape (200,200) into shape (2)",
          "traceback":[
            "\u001b[0;31m---------------------------------------------------------------------------",
            "Traceback (most recent call last)",
            "    at line 12 in <module>",
            "    at line 10 in train(g_model, d_model, gan_model, dataset, latent_dim, n_epochs, n_batch)",
            "    at line 6 in generate_real_samples(datasetIn, n_samples)",
            "ValueError: could not broadcast input array from shape (200,200) into shape (2)"
          ],
          "output_type":"error"
        }
      ],
      "metadata":{
        
      }
    },
    {
      "cell_type":"code",
      "source":[
        "dataset[0]"
      ],
      "execution_count":147,
      "outputs":[
        {
          "data":{
            "text\/plain":[
              "array([array([[0.5254902 , 0.5254902 , 0.5254902 , ..., 0.39215687, 0.39215687,\n",
              "        0.39215687],\n",
              "       [0.5254902 , 0.5254902 , 0.5254902 , ..., 0.39215687, 0.39215687,\n",
              "        0.39215687],\n",
              "       [0.52156866, 0.52156866, 0.5254902 , ..., 0.39607844, 0.39607844,\n",
              "        0.39607844],\n",
              "       ...,\n",
              "       [0.4627451 , 0.45882353, 0.4627451 , ..., 0.3882353 , 0.36862746,\n",
              "        0.36078432],\n",
              "       [0.45882353, 0.45882353, 0.4627451 , ..., 0.38039216, 0.37254903,\n",
              "        0.3647059 ],\n",
              "       [0.4627451 , 0.4627451 , 0.45882353, ..., 0.3764706 , 0.38039216,\n",
              "        0.37254903]], dtype=float32),\n",
              "       1], dtype=object)"
            ]
          },
          "metadata":{
            
          },
          "output_type":"display_data"
        }
      ],
      "metadata":{
        
      }
    }
  ],
  "metadata":{
    
  },
  "nbformat":4,
  "nbformat_minor":0
}