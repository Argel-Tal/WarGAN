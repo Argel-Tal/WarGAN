{
  "nbformat": 4,
  "nbformat_minor": 0,
  "metadata": {
    "kernelspec": {
      "name": "python385jvsc74a57bd0fd02e15c5e8f5ee6cdee280f4db237d56a650e119945c60bf91993c8f57ebb6a",
      "display_name": "Python 3.8.5 64-bit (conda)"
    },
    "language_info": {
      "codemirror_mode": {
        "name": "ipython",
        "version": 3
      },
      "file_extension": ".py",
      "mimetype": "text/x-python",
      "name": "python",
      "nbconvert_exporter": "python",
      "pygments_lexer": "ipython3",
      "version": "3.8.5-final"
    },
    "colab": {
      "name": "warGAN_take3.ipynb",
      "provenance": [],
      "toc_visible": true
    },
    "accelerator": "GPU"
  },
  "cells": [
    {
      "cell_type": "markdown",
      "metadata": {
        "id": "jvkgrkaeN3Fr"
      },
      "source": [
        "# GAN IMPLEMENTATION FROM COMMUNITY INQ28 MODELS\n",
        "- Code Author: Jack MacCormick\n",
        "- Instagram: argelpaints: https://www.instagram.com/argelpaints/\n",
        "- Done in partnership with 28MAG: https://28-mag.com/\n",
        "\n",
        "**GAN Training and Development Code:**\n",
        "\n",
        "This project is the use of GAN style Machine Learning algorithms to generate new images, based off the works of the Warhammer INQ28 community. These images are the dreamings of an abhorent AI system, who's task is to understand \"what is INQ28\" it knows not the world, it's surroundings, only those offered to it, and the endless void"
      ]
    },
    {
      "cell_type": "code",
      "metadata": {
        "colab": {
          "base_uri": "https://localhost:8080/"
        },
        "id": "EjdWA9soN_Nl",
        "outputId": "b9e60879-394b-4bf9-a904-272e9e3ee370"
      },
      "source": [
        "'''\n",
        "from google.colab import drive\n",
        "drive.mount('/content/drive')\n",
        "'''"
      ],
      "execution_count": 1,
      "outputs": [
        {
          "output_type": "stream",
          "text": [
            "Mounted at /content/drive\n"
          ],
          "name": "stdout"
        }
      ]
    },
    {
      "cell_type": "code",
      "metadata": {
        "id": "a2XzmLphN3Fs"
      },
      "source": [
        "# import necessary packages\n",
        "import os\n",
        "import matplotlib.pyplot as plt\n",
        "import matplotlib.image as mpimg\n",
        "import pylab\n",
        "import h5py\n",
        "\n",
        "from PIL import Image\n",
        "import pandas as pd\n",
        "import tensorflow as tf\n",
        "from tensorflow import keras\n",
        "\n",
        "import numpy as np\n",
        "from numpy import expand_dims\n",
        "from numpy import zeros\n",
        "from numpy import ones\n",
        "from numpy.random import random\n",
        "from numpy.random import randint\n",
        "\n",
        "from tensorflow.keras.optimizers import Adam\n",
        "from tensorflow.keras.layers import Dense\n",
        "from tensorflow.keras.layers import Reshape\n",
        "from tensorflow.keras.layers import Flatten\n",
        "from tensorflow.keras.layers import Conv2D\n",
        "from tensorflow.keras.layers import Conv2DTranspose\n",
        "from tensorflow.keras.layers import LeakyReLU\n",
        "from tensorflow.keras.layers import Dropout\n",
        "from tensorflow.keras.layers import Input\n",
        "from tensorflow.keras.layers import Embedding\n",
        "from tensorflow.keras.layers import Concatenate\n",
        "\n",
        "from tensorflow.keras.models import Sequential\n",
        "from tensorflow.keras.models import load_model\n",
        "from tensorflow.keras.models import Model\n",
        "\n",
        "from tqdm import tqdm \n",
        "from IPython import display "
      ],
      "execution_count": 2,
      "outputs": []
    },
    {
      "cell_type": "code",
      "metadata": {
        "id": "H61lp3EwPM9U"
      },
      "source": [
        "learningRate = 0.00015\n",
        "n_epochs = 75 # number of \"generations\"\n",
        "n_batch = 40 # batch (of images) size"
      ],
      "execution_count": 40,
      "outputs": []
    },
    {
      "cell_type": "code",
      "metadata": {
        "id": "R0tR1JKEN3Ft"
      },
      "source": [
        "\"\"\"\n",
        "define the standalone discriminator model\n",
        "key value is the learning rate lr\n",
        "\n",
        "\"\"\"\n",
        "\n",
        "def define_discriminator(in_shape=(200,200,1)):\n",
        "\t# weight initialization\n",
        "\tinit = 'uniform'\n",
        "\t# define model\n",
        "\tmodel = Sequential()\n",
        "\t# downsample to 100x100\n",
        "\tmodel.add(Conv2D(64, (4,4), strides=(2,2), padding='same', kernel_initializer=init, input_shape=in_shape))\n",
        "\tmodel.add(LeakyReLU(alpha=0.2))\n",
        "\t# downsample to 50x50\n",
        "\tmodel.add(Conv2D(64, (4,4), strides=(2,2), padding='same', kernel_initializer=init))\n",
        "\tmodel.add(LeakyReLU(alpha=0.2))\n",
        "\t# classifier\n",
        "\tmodel.add(Flatten())\n",
        "\tmodel.add(Dense(1, activation='sigmoid'))\n",
        "\t# compile model\n",
        "\topt = Adam(lr=0.0001, beta_1=0.5)\n",
        "\tmodel.compile(loss='binary_crossentropy', optimizer=opt, metrics=['accuracy'])\n",
        "\treturn model"
      ],
      "execution_count": 4,
      "outputs": []
    },
    {
      "cell_type": "code",
      "metadata": {
        "id": "TFYvDa97N3Ft"
      },
      "source": [
        "def define_generator(latent_dim):\n",
        "\t# weight initialization\n",
        "\tinit = 'uniform'\n",
        "\t# define model\n",
        "\tmodel = Sequential()\n",
        "\t# foundation for 50x50 image\n",
        "\tn_nodes = 256 * 50 * 50\n",
        "\tmodel.add(Dense(n_nodes, kernel_initializer=init, input_dim=latent_dim))\n",
        "\tmodel.add(LeakyReLU(alpha=0.2))\n",
        "\tmodel.add(Reshape((50, 50, 256)))\n",
        "\t# upsample to 100x100\n",
        "\tmodel.add(Conv2DTranspose(256, (4,4), strides=(2,2), padding='same', kernel_initializer=init))\n",
        "\tmodel.add(LeakyReLU(alpha=0.2))\n",
        "\t# upsample to 200x200\n",
        "\tmodel.add(Conv2DTranspose(256, (4,4), strides=(2,2), padding='same', kernel_initializer=init))\n",
        "\tmodel.add(LeakyReLU(alpha=0.2))\n",
        "\t# output 28x28x1\n",
        "\tmodel.add(Conv2D(1, (7,7), activation='tanh', padding='same', kernel_initializer=init))\n",
        "\treturn model"
      ],
      "execution_count": 5,
      "outputs": []
    },
    {
      "cell_type": "code",
      "metadata": {
        "id": "kbo8AaESN3Fu"
      },
      "source": [
        "# define the combined generator and discriminator model, for updating the generator\n",
        "def define_gan(generator, discriminator):\n",
        "\t# make weights in the discriminator not trainable\n",
        "\tdiscriminator.trainable = False\n",
        "\t# connect them\n",
        "\tmodel = Sequential()\n",
        "\t# add generator\n",
        "\tmodel.add(generator)\n",
        "\t# add the discriminator\n",
        "\tmodel.add(discriminator)\n",
        "\t# compile model\n",
        "\topt = Adam(lr=learningRate, beta_1=0.7) # lr=00015 seems to be the ideal value for training\n",
        "\tmodel.compile(loss='binary_crossentropy', optimizer=opt)\n",
        "\treturn model"
      ],
      "execution_count": 6,
      "outputs": []
    },
    {
      "cell_type": "code",
      "metadata": {
        "id": "cDcW9TnyN3Fu"
      },
      "source": [
        "# default values of standardised images\n",
        "preferred_width = 200\n",
        "preferred_height = 200"
      ],
      "execution_count": 7,
      "outputs": []
    },
    {
      "cell_type": "code",
      "metadata": {
        "id": "BFcQwtFrPkiA"
      },
      "source": [
        "pathSource = '/content/drive/MyDrive/BnWDrive'\n",
        "dir_list = os.listdir(pathSource)"
      ],
      "execution_count": 8,
      "outputs": []
    },
    {
      "cell_type": "code",
      "metadata": {
        "id": "Xl3i_0GAOZJ_"
      },
      "source": [
        "images = []\n",
        "# for image in pathSource, convert them to BnW, save that to pathDest, then add standardised version to images[]\n",
        "for image in dir_list:\n",
        "    img = Image.open(pathSource+\"/\"+image)\n",
        "    imgArray = np.array(img) # int array of pixels\n",
        "    imgArray = imgArray.astype(float)/255 # standardise values to be 0:255\n",
        "    images.append(imgArray)\n"
      ],
      "execution_count": 9,
      "outputs": []
    },
    {
      "cell_type": "code",
      "metadata": {
        "colab": {
          "base_uri": "https://localhost:8080/"
        },
        "id": "QAzoYSfVN3Fw",
        "outputId": "96054e6c-d429-4395-c5ce-7a1cf034cb92"
      },
      "source": [
        "# setting a param for proportion of data to keep for testing\n",
        "testingSize = int(len(dir_list)/5)\n",
        "\n",
        "X_testing = np.array(images[0:testingSize])\n",
        "X_training = np.array(images[testingSize:len(images)])\n",
        "\n",
        "\"\"\"\n",
        "# this is all diagnostic checks to ensuredata is passed correctly to training and testing splits\n",
        "\n",
        "# code:\n",
        "print(np.shape(X_testing)) \n",
        "print(X_testing[1]) # checking it's correctly put something into the testing variable\n",
        "print(np.shape(X_training))\n",
        "# end code\n",
        "\"\"\"\n",
        "\n",
        "()"
      ],
      "execution_count": 10,
      "outputs": [
        {
          "output_type": "execute_result",
          "data": {
            "text/plain": [
              "()"
            ]
          },
          "metadata": {
            "tags": []
          },
          "execution_count": 10
        }
      ]
    },
    {
      "cell_type": "code",
      "metadata": {
        "id": "FV21XCFMN3Fw"
      },
      "source": [
        "# select real samples\n",
        "def generate_real_samples(dataset, n_samples):\n",
        "\t# choose random instances\n",
        "\tix = randint(0, dataset.shape[0], n_samples)\n",
        "\t# select images\n",
        "\tX = dataset[ix]\n",
        "\t# generate class labels\n",
        "\ty = ones((n_samples, 1))\n",
        "\treturn X, y"
      ],
      "execution_count": 11,
      "outputs": []
    },
    {
      "cell_type": "code",
      "metadata": {
        "id": "qmw5tCJbN3Fw"
      },
      "source": [
        "# generate points in latent space as input for the generator\n",
        "def generate_latent_points(latent_dim, n_samples):\n",
        "\t# generate points in the latent space\n",
        "\tx_input = np.random.uniform(low=0.0, high=1.0, size=(latent_dim, n_samples))\n",
        "\t# reshape into a batch of inputs for the network\n",
        "\tx_input = x_input.reshape(n_samples, latent_dim)\n",
        "\treturn x_input"
      ],
      "execution_count": 12,
      "outputs": []
    },
    {
      "cell_type": "code",
      "metadata": {
        "id": "kGzrSa3GN3Fx"
      },
      "source": [
        "# use the generator to generate n fake examples, with class labels\n",
        "def generate_fake_samples(generator, latent_dim, n_samples):\n",
        "\t# generate points in latent space\n",
        "\tx_input = abs(generate_latent_points(latent_dim, n_samples))\n",
        "\t# predict outputs\n",
        "\tX = generator.predict(x_input)\n",
        "\t# create class labels\n",
        "\ty = zeros((n_samples, 1))\n",
        "\treturn X, y"
      ],
      "execution_count": 13,
      "outputs": []
    },
    {
      "cell_type": "code",
      "metadata": {
        "id": "AOzLxk6-N3Fx"
      },
      "source": [
        "\"\"\"\n",
        "trains the generator and discriminator parts of the GAN\n",
        "saves the net model to a .h5 file\n",
        "\"\"\"\n",
        "\n",
        "def train(g_model, d_model, gan_model, dataset, latent_dim, n_epochs, n_batch):\n",
        "\t# calculate the number of batches per epoch\n",
        "\tbat_per_epo = int(dataset.shape[0] / n_batch)\n",
        "\t# calculate the total iterations based on batch and epoch\n",
        "\tn_steps = bat_per_epo * n_epochs\n",
        "\t# calculate the number of samples in half a batch\n",
        "\thalf_batch = int(n_batch / 2)\n",
        "\t# prepare lists for storing stats each iteration\n",
        "\td1_hist, d2_hist, g_hist, a1_hist, a2_hist = list(), list(), list(), list(), list()\n",
        "\t# manually enumerate epochs\n",
        "\tfor i in range(n_steps):\n",
        "\t\t# get randomly selected 'real' samples\n",
        "\t\tX_real, y_real = generate_real_samples(dataset, half_batch)\n",
        "\t\t# update discriminator model weights\n",
        "\t\td_loss1, d_acc1 = d_model.train_on_batch(X_real, y_real)\n",
        "\t\t# generate 'fake' examples\n",
        "\t\tX_fake, y_fake = generate_fake_samples(g_model, latent_dim, half_batch)\n",
        "\t\t# update discriminator model weights\n",
        "\t\td_loss2, d_acc2 = d_model.train_on_batch(X_fake, y_fake)\n",
        "\t\t# prepare points in latent space as input for the generator\n",
        "\t\tX_gan = generate_latent_points(latent_dim, n_batch)\n",
        "\t\t# create inverted labels for the fake samples\n",
        "\t\ty_gan = ones((n_batch, 1))\n",
        "\t\t# update the generator via the discriminator's error\n",
        "\t\tg_loss = gan_model.train_on_batch(X_gan, y_gan)\n",
        "\t\t# summarize loss on this batch\n",
        "\t\tprint('>%d/%d, d1=%.3f, d2=%.3f g=%.3f, a1=%d, a2=%d' %\n",
        "\t\t\t(i+1, n_steps, d_loss1, d_loss2, g_loss, int(100*d_acc1), int(100*d_acc2)))\n",
        "\t\t# record history\n",
        "\t\td1_hist.append(d_loss1)\n",
        "\t\td2_hist.append(d_loss2)\n",
        "\t\tg_hist.append(g_loss)\n",
        "\t\ta1_hist.append(d_acc1)\n",
        "\t\ta2_hist.append(d_acc2)\n",
        "\t\tif (i%10==0): # save frequency, this should really be a smart value\n",
        "\t\t\tg_model.save('WARgenerator.h5')\t\t\n",
        "\tprint(\"finished training\")\n",
        "\t# this is the generator that can be called externally\n",
        "\tg_model.save('WARgenerator.h5') \n",
        "\t\"\"\"\n",
        "\tSave is also embed this within the loop every so many itterations\n",
        "\tso something is saved/retained if user needs to abort while long training processes are occuring or if something fails, if the kernel or local machine crashes or if local machine looses power\n",
        "\t\"\"\""
      ],
      "execution_count": 14,
      "outputs": []
    },
    {
      "cell_type": "code",
      "metadata": {
        "id": "BE2TwB57N3Fx"
      },
      "source": [
        "\"\"\"\n",
        "set up the data into something the GAN can use in training\n",
        "\"\"\"\n",
        "\n",
        "X_train=np.reshape(X_training,(X_training.shape[0], X_training.shape[1],X_training.shape[2],1))"
      ],
      "execution_count": 15,
      "outputs": []
    },
    {
      "cell_type": "code",
      "metadata": {
        "tags": [],
        "colab": {
          "base_uri": "https://localhost:8080/"
        },
        "id": "i7NTO10VN3Fy",
        "outputId": "00243abe-89b1-4d9a-d574-dc5310f7c27b"
      },
      "source": [
        "\"\"\"\n",
        "set up for training and training call\n",
        "this can take some time depending on number of epochs\n",
        "recommend running on a GPU\n",
        "\"\"\"\n",
        "\n",
        "# training params\n",
        "latent_dim = 50 # size of the latent space\n",
        "# training above 50 generations, results stabilise, and no change is noticable\n",
        "\n",
        "# create the discriminator\n",
        "discriminator = define_discriminator()\n",
        "# create the generator\n",
        "generator = define_generator(latent_dim)\n",
        "# create the gan\n",
        "gan_model = define_gan(generator, discriminator)\n",
        "# load image data\n",
        "dataset = X_train\n",
        "\n",
        "# train model\n",
        "train(generator, discriminator, gan_model, dataset, latent_dim, n_epochs, n_batch)"
      ],
      "execution_count": 41,
      "outputs": [
        {
          "output_type": "stream",
          "text": [
            ">1/225, d1=0.705, d2=0.674 g=0.749, a1=0, a2=100\n",
            ">2/225, d1=0.435, d2=0.745 g=0.653, a1=100, a2=0\n",
            ">3/225, d1=0.265, d2=0.925 g=0.514, a1=100, a2=0\n",
            ">4/225, d1=0.179, d2=1.209 g=0.398, a1=100, a2=0\n",
            ">5/225, d1=0.168, d2=1.414 g=0.366, a1=100, a2=0\n",
            ">6/225, d1=0.245, d2=1.352 g=0.405, a1=100, a2=0\n",
            ">7/225, d1=0.354, d2=1.177 g=0.482, a1=100, a2=0\n",
            ">8/225, d1=0.469, d2=1.007 g=0.573, a1=100, a2=0\n",
            ">9/225, d1=0.563, d2=0.885 g=0.646, a1=100, a2=0\n",
            ">10/225, d1=0.625, d2=0.823 g=0.681, a1=100, a2=0\n",
            ">11/225, d1=0.664, d2=0.812 g=0.670, a1=75, a2=0\n",
            ">12/225, d1=0.673, d2=0.853 g=0.628, a1=75, a2=0\n",
            ">13/225, d1=0.685, d2=0.928 g=0.560, a1=55, a2=0\n",
            ">14/225, d1=0.661, d2=1.024 g=0.495, a1=80, a2=0\n",
            ">15/225, d1=0.624, d2=1.112 g=0.436, a1=100, a2=0\n",
            ">16/225, d1=0.571, d2=1.158 g=0.419, a1=100, a2=0\n",
            ">17/225, d1=0.507, d2=1.202 g=0.392, a1=100, a2=0\n",
            ">18/225, d1=0.458, d2=1.243 g=0.368, a1=100, a2=0\n",
            ">19/225, d1=0.397, d2=1.346 g=0.333, a1=100, a2=0\n",
            ">20/225, d1=0.364, d2=1.442 g=0.307, a1=100, a2=0\n",
            ">21/225, d1=0.340, d2=1.467 g=0.307, a1=100, a2=0\n",
            ">22/225, d1=0.332, d2=1.462 g=0.317, a1=100, a2=0\n",
            ">23/225, d1=0.359, d2=1.394 g=0.342, a1=100, a2=0\n",
            ">24/225, d1=0.380, d2=1.350 g=0.357, a1=100, a2=0\n",
            ">25/225, d1=0.396, d2=1.308 g=0.390, a1=100, a2=0\n",
            ">26/225, d1=0.412, d2=1.244 g=0.432, a1=100, a2=0\n",
            ">27/225, d1=0.470, d2=1.241 g=0.412, a1=100, a2=0\n",
            ">28/225, d1=0.468, d2=1.324 g=0.387, a1=100, a2=0\n",
            ">29/225, d1=0.479, d2=1.234 g=0.444, a1=100, a2=0\n",
            ">30/225, d1=0.484, d2=1.076 g=0.553, a1=100, a2=0\n",
            ">31/225, d1=0.500, d2=1.059 g=0.566, a1=100, a2=0\n",
            ">32/225, d1=0.522, d2=1.135 g=0.454, a1=100, a2=0\n",
            ">33/225, d1=0.481, d2=1.109 g=0.492, a1=100, a2=0\n",
            ">34/225, d1=0.478, d2=1.016 g=0.567, a1=100, a2=0\n",
            ">35/225, d1=0.503, d2=0.975 g=0.602, a1=100, a2=0\n",
            ">36/225, d1=0.537, d2=0.949 g=0.638, a1=100, a2=0\n",
            ">37/225, d1=0.563, d2=0.937 g=0.639, a1=100, a2=0\n",
            ">38/225, d1=0.597, d2=0.943 g=0.646, a1=100, a2=0\n",
            ">39/225, d1=0.630, d2=0.968 g=0.601, a1=100, a2=0\n",
            ">40/225, d1=0.647, d2=0.947 g=0.617, a1=94, a2=0\n",
            ">41/225, d1=0.661, d2=0.921 g=0.640, a1=80, a2=0\n",
            ">42/225, d1=0.680, d2=0.912 g=0.636, a1=60, a2=0\n",
            ">43/225, d1=0.700, d2=0.914 g=0.625, a1=50, a2=0\n",
            ">44/225, d1=0.669, d2=0.900 g=0.635, a1=85, a2=0\n",
            ">45/225, d1=0.653, d2=0.880 g=0.663, a1=100, a2=0\n",
            ">46/225, d1=0.669, d2=0.858 g=0.671, a1=85, a2=0\n",
            ">47/225, d1=0.672, d2=0.859 g=0.661, a1=89, a2=0\n",
            ">48/225, d1=0.668, d2=0.850 g=0.672, a1=100, a2=0\n",
            ">49/225, d1=0.670, d2=0.829 g=0.685, a1=89, a2=0\n",
            ">50/225, d1=0.674, d2=0.813 g=0.694, a1=85, a2=0\n",
            ">51/225, d1=0.687, d2=0.815 g=0.688, a1=50, a2=0\n",
            ">52/225, d1=0.701, d2=0.817 g=0.680, a1=40, a2=0\n",
            ">53/225, d1=0.713, d2=0.816 g=0.674, a1=15, a2=0\n",
            ">54/225, d1=0.721, d2=0.805 g=0.677, a1=15, a2=0\n",
            ">55/225, d1=0.737, d2=0.789 g=0.683, a1=0, a2=0\n",
            ">56/225, d1=0.751, d2=0.776 g=0.688, a1=0, a2=0\n",
            ">57/225, d1=0.755, d2=0.766 g=0.683, a1=0, a2=0\n",
            ">58/225, d1=0.743, d2=0.762 g=0.685, a1=0, a2=0\n",
            ">59/225, d1=0.743, d2=0.758 g=0.687, a1=0, a2=0\n",
            ">60/225, d1=0.741, d2=0.753 g=0.696, a1=0, a2=0\n",
            ">61/225, d1=0.747, d2=0.752 g=0.692, a1=0, a2=0\n",
            ">62/225, d1=0.743, d2=0.753 g=0.697, a1=0, a2=0\n",
            ">63/225, d1=0.739, d2=0.744 g=0.720, a1=0, a2=0\n",
            ">64/225, d1=0.749, d2=0.738 g=0.717, a1=0, a2=0\n",
            ">65/225, d1=0.733, d2=0.740 g=0.711, a1=0, a2=0\n",
            ">66/225, d1=0.719, d2=0.739 g=0.717, a1=0, a2=0\n",
            ">67/225, d1=0.721, d2=0.735 g=0.718, a1=0, a2=0\n",
            ">68/225, d1=0.717, d2=0.736 g=0.713, a1=0, a2=0\n",
            ">69/225, d1=0.716, d2=0.742 g=0.705, a1=0, a2=0\n",
            ">70/225, d1=0.698, d2=0.746 g=0.702, a1=40, a2=0\n",
            ">71/225, d1=0.692, d2=0.751 g=0.698, a1=64, a2=0\n",
            ">72/225, d1=0.689, d2=0.761 g=0.683, a1=75, a2=0\n",
            ">73/225, d1=0.665, d2=0.763 g=0.687, a1=94, a2=0\n",
            ">74/225, d1=0.665, d2=0.762 g=0.688, a1=100, a2=0\n",
            ">75/225, d1=0.661, d2=0.758 g=0.695, a1=100, a2=0\n",
            ">76/225, d1=0.663, d2=0.754 g=0.697, a1=100, a2=0\n",
            ">77/225, d1=0.672, d2=0.756 g=0.689, a1=80, a2=0\n",
            ">78/225, d1=0.669, d2=0.753 g=0.696, a1=85, a2=0\n",
            ">79/225, d1=0.669, d2=0.747 g=0.697, a1=89, a2=0\n",
            ">80/225, d1=0.685, d2=0.744 g=0.693, a1=75, a2=0\n",
            ">81/225, d1=0.686, d2=0.742 g=0.691, a1=64, a2=0\n",
            ">82/225, d1=0.684, d2=0.739 g=0.694, a1=69, a2=0\n",
            ">83/225, d1=0.686, d2=0.736 g=0.690, a1=64, a2=0\n",
            ">84/225, d1=0.685, d2=0.736 g=0.691, a1=80, a2=0\n",
            ">85/225, d1=0.684, d2=0.731 g=0.699, a1=75, a2=0\n",
            ">86/225, d1=0.699, d2=0.727 g=0.706, a1=40, a2=0\n",
            ">87/225, d1=0.702, d2=0.728 g=0.700, a1=40, a2=0\n",
            ">88/225, d1=0.698, d2=0.733 g=0.695, a1=40, a2=0\n",
            ">89/225, d1=0.697, d2=0.733 g=0.694, a1=40, a2=0\n",
            ">90/225, d1=0.689, d2=0.732 g=0.703, a1=64, a2=0\n",
            ">91/225, d1=0.698, d2=0.735 g=0.694, a1=25, a2=0\n",
            ">92/225, d1=0.692, d2=0.733 g=0.707, a1=50, a2=0\n",
            ">93/225, d1=0.704, d2=0.729 g=0.712, a1=44, a2=0\n",
            ">94/225, d1=0.715, d2=0.729 g=0.711, a1=20, a2=0\n",
            ">95/225, d1=0.701, d2=0.728 g=0.716, a1=30, a2=0\n",
            ">96/225, d1=0.714, d2=0.727 g=0.714, a1=0, a2=0\n",
            ">97/225, d1=0.709, d2=0.733 g=0.705, a1=5, a2=0\n",
            ">98/225, d1=0.698, d2=0.735 g=0.708, a1=50, a2=0\n",
            ">99/225, d1=0.706, d2=0.743 g=0.691, a1=34, a2=0\n",
            ">100/225, d1=0.693, d2=0.743 g=0.702, a1=60, a2=0\n",
            ">101/225, d1=0.698, d2=0.740 g=0.705, a1=34, a2=0\n",
            ">102/225, d1=0.699, d2=0.741 g=0.697, a1=44, a2=0\n",
            ">103/225, d1=0.688, d2=0.742 g=0.695, a1=64, a2=0\n",
            ">104/225, d1=0.695, d2=0.735 g=0.708, a1=50, a2=0\n",
            ">105/225, d1=0.705, d2=0.737 g=0.692, a1=25, a2=0\n",
            ">106/225, d1=0.705, d2=0.737 g=0.693, a1=15, a2=0\n",
            ">107/225, d1=0.704, d2=0.734 g=0.696, a1=25, a2=0\n",
            ">108/225, d1=0.704, d2=0.729 g=0.700, a1=20, a2=0\n",
            ">109/225, d1=0.708, d2=0.730 g=0.694, a1=25, a2=0\n",
            ">110/225, d1=0.708, d2=0.734 g=0.687, a1=20, a2=0\n",
            ">111/225, d1=0.704, d2=0.734 g=0.688, a1=25, a2=0\n",
            ">112/225, d1=0.702, d2=0.730 g=0.696, a1=25, a2=0\n",
            ">113/225, d1=0.713, d2=0.723 g=0.700, a1=5, a2=0\n",
            ">114/225, d1=0.708, d2=0.721 g=0.703, a1=5, a2=0\n",
            ">115/225, d1=0.712, d2=0.721 g=0.702, a1=10, a2=0\n",
            ">116/225, d1=0.714, d2=0.722 g=0.702, a1=5, a2=0\n",
            ">117/225, d1=0.712, d2=0.721 g=0.704, a1=5, a2=0\n",
            ">118/225, d1=0.713, d2=0.722 g=0.705, a1=5, a2=0\n",
            ">119/225, d1=0.718, d2=0.724 g=0.698, a1=5, a2=0\n",
            ">120/225, d1=0.708, d2=0.727 g=0.694, a1=5, a2=0\n",
            ">121/225, d1=0.705, d2=0.727 g=0.696, a1=15, a2=0\n",
            ">122/225, d1=0.713, d2=0.724 g=0.700, a1=0, a2=0\n",
            ">123/225, d1=0.713, d2=0.721 g=0.705, a1=0, a2=0\n",
            ">124/225, d1=0.715, d2=0.719 g=0.707, a1=0, a2=0\n",
            ">125/225, d1=0.725, d2=0.722 g=0.697, a1=5, a2=0\n",
            ">126/225, d1=0.714, d2=0.721 g=0.698, a1=5, a2=0\n",
            ">127/225, d1=0.712, d2=0.717 g=0.702, a1=10, a2=0\n",
            ">128/225, d1=0.715, d2=0.715 g=0.704, a1=5, a2=0\n",
            ">129/225, d1=0.713, d2=0.714 g=0.704, a1=0, a2=0\n",
            ">130/225, d1=0.717, d2=0.714 g=0.704, a1=0, a2=0\n",
            ">131/225, d1=0.719, d2=0.713 g=0.705, a1=5, a2=0\n",
            ">132/225, d1=0.720, d2=0.716 g=0.699, a1=0, a2=0\n",
            ">133/225, d1=0.710, d2=0.718 g=0.702, a1=10, a2=0\n",
            ">134/225, d1=0.713, d2=0.718 g=0.700, a1=0, a2=0\n",
            ">135/225, d1=0.712, d2=0.717 g=0.702, a1=10, a2=0\n",
            ">136/225, d1=0.716, d2=0.718 g=0.701, a1=5, a2=0\n",
            ">137/225, d1=0.712, d2=0.720 g=0.699, a1=5, a2=0\n",
            ">138/225, d1=0.711, d2=0.725 g=0.692, a1=5, a2=0\n",
            ">139/225, d1=0.712, d2=0.729 g=0.689, a1=0, a2=0\n",
            ">140/225, d1=0.708, d2=0.729 g=0.688, a1=5, a2=0\n",
            ">141/225, d1=0.706, d2=0.730 g=0.690, a1=15, a2=0\n",
            ">142/225, d1=0.705, d2=0.731 g=0.689, a1=15, a2=0\n",
            ">143/225, d1=0.704, d2=0.731 g=0.692, a1=30, a2=0\n",
            ">144/225, d1=0.705, d2=0.735 g=0.685, a1=5, a2=0\n",
            ">145/225, d1=0.696, d2=0.739 g=0.679, a1=34, a2=0\n",
            ">146/225, d1=0.700, d2=0.744 g=0.672, a1=34, a2=0\n",
            ">147/225, d1=0.690, d2=0.745 g=0.672, a1=60, a2=0\n",
            ">148/225, d1=0.690, d2=0.743 g=0.675, a1=64, a2=0\n",
            ">149/225, d1=0.695, d2=0.741 g=0.679, a1=34, a2=0\n",
            ">150/225, d1=0.695, d2=0.741 g=0.683, a1=25, a2=0\n",
            ">151/225, d1=0.702, d2=0.751 g=0.665, a1=5, a2=0\n",
            ">152/225, d1=0.688, d2=0.757 g=0.665, a1=64, a2=0\n",
            ">153/225, d1=0.687, d2=0.755 g=0.671, a1=60, a2=0\n",
            ">154/225, d1=0.695, d2=0.752 g=0.674, a1=44, a2=0\n",
            ">155/225, d1=0.691, d2=0.751 g=0.673, a1=69, a2=0\n",
            ">156/225, d1=0.697, d2=0.758 g=0.664, a1=50, a2=0\n",
            ">157/225, d1=0.686, d2=0.759 g=0.670, a1=69, a2=0\n",
            ">158/225, d1=0.686, d2=0.761 g=0.669, a1=75, a2=0\n",
            ">159/225, d1=0.691, d2=0.768 g=0.653, a1=64, a2=0\n",
            ">160/225, d1=0.677, d2=0.769 g=0.658, a1=89, a2=0\n",
            ">161/225, d1=0.682, d2=0.763 g=0.665, a1=80, a2=0\n",
            ">162/225, d1=0.682, d2=0.760 g=0.665, a1=85, a2=0\n",
            ">163/225, d1=0.685, d2=0.759 g=0.667, a1=69, a2=0\n",
            ">164/225, d1=0.684, d2=0.763 g=0.660, a1=94, a2=0\n",
            ">165/225, d1=0.683, d2=0.764 g=0.663, a1=75, a2=0\n",
            ">166/225, d1=0.683, d2=0.763 g=0.663, a1=80, a2=0\n",
            ">167/225, d1=0.690, d2=0.759 g=0.669, a1=64, a2=0\n",
            ">168/225, d1=0.685, d2=0.756 g=0.673, a1=80, a2=0\n",
            ">169/225, d1=0.690, d2=0.756 g=0.670, a1=64, a2=0\n",
            ">170/225, d1=0.687, d2=0.761 g=0.663, a1=69, a2=0\n",
            ">171/225, d1=0.687, d2=0.760 g=0.667, a1=64, a2=0\n",
            ">172/225, d1=0.688, d2=0.760 g=0.663, a1=69, a2=0\n",
            ">173/225, d1=0.687, d2=0.757 g=0.667, a1=85, a2=0\n",
            ">174/225, d1=0.687, d2=0.754 g=0.671, a1=85, a2=0\n",
            ">175/225, d1=0.689, d2=0.754 g=0.667, a1=75, a2=0\n",
            ">176/225, d1=0.688, d2=0.755 g=0.666, a1=80, a2=0\n",
            ">177/225, d1=0.688, d2=0.752 g=0.670, a1=64, a2=0\n",
            ">178/225, d1=0.692, d2=0.750 g=0.673, a1=50, a2=0\n",
            ">179/225, d1=0.692, d2=0.747 g=0.678, a1=55, a2=0\n",
            ">180/225, d1=0.696, d2=0.749 g=0.670, a1=50, a2=0\n",
            ">181/225, d1=0.690, d2=0.750 g=0.673, a1=60, a2=0\n",
            ">182/225, d1=0.685, d2=0.750 g=0.675, a1=75, a2=0\n",
            ">183/225, d1=0.685, d2=0.752 g=0.671, a1=75, a2=0\n",
            ">184/225, d1=0.689, d2=0.755 g=0.665, a1=60, a2=0\n",
            ">185/225, d1=0.688, d2=0.754 g=0.671, a1=60, a2=0\n",
            ">186/225, d1=0.690, d2=0.752 g=0.674, a1=55, a2=0\n",
            ">187/225, d1=0.687, d2=0.748 g=0.680, a1=60, a2=0\n",
            ">188/225, d1=0.687, d2=0.746 g=0.683, a1=60, a2=0\n",
            ">189/225, d1=0.696, d2=0.749 g=0.671, a1=44, a2=0\n",
            ">190/225, d1=0.680, d2=0.749 g=0.677, a1=85, a2=0\n",
            ">191/225, d1=0.689, d2=0.750 g=0.671, a1=55, a2=0\n",
            ">192/225, d1=0.689, d2=0.749 g=0.676, a1=55, a2=0\n",
            ">193/225, d1=0.697, d2=0.747 g=0.678, a1=40, a2=0\n",
            ">194/225, d1=0.694, d2=0.742 g=0.686, a1=50, a2=0\n",
            ">195/225, d1=0.698, d2=0.748 g=0.669, a1=40, a2=0\n",
            ">196/225, d1=0.684, d2=0.750 g=0.671, a1=69, a2=0\n",
            ">197/225, d1=0.684, d2=0.750 g=0.674, a1=69, a2=0\n",
            ">198/225, d1=0.694, d2=0.747 g=0.678, a1=40, a2=0\n",
            ">199/225, d1=0.692, d2=0.744 g=0.686, a1=44, a2=0\n",
            ">200/225, d1=0.709, d2=0.749 g=0.669, a1=25, a2=0\n",
            ">201/225, d1=0.687, d2=0.752 g=0.669, a1=55, a2=0\n",
            ">202/225, d1=0.690, d2=0.752 g=0.671, a1=50, a2=0\n",
            ">203/225, d1=0.693, d2=0.748 g=0.677, a1=50, a2=0\n",
            ">204/225, d1=0.688, d2=0.749 g=0.676, a1=75, a2=0\n",
            ">205/225, d1=0.687, d2=0.752 g=0.673, a1=69, a2=0\n",
            ">206/225, d1=0.691, d2=0.755 g=0.666, a1=50, a2=0\n",
            ">207/225, d1=0.685, d2=0.757 g=0.663, a1=64, a2=0\n",
            ">208/225, d1=0.680, d2=0.754 g=0.670, a1=94, a2=0\n",
            ">209/225, d1=0.687, d2=0.749 g=0.671, a1=69, a2=0\n",
            ">210/225, d1=0.693, d2=0.746 g=0.672, a1=60, a2=0\n",
            ">211/225, d1=0.690, d2=0.746 g=0.671, a1=64, a2=0\n",
            ">212/225, d1=0.690, d2=0.744 g=0.673, a1=64, a2=0\n",
            ">213/225, d1=0.690, d2=0.743 g=0.674, a1=60, a2=0\n",
            ">214/225, d1=0.695, d2=0.742 g=0.674, a1=40, a2=0\n",
            ">215/225, d1=0.703, d2=0.741 g=0.675, a1=25, a2=0\n",
            ">216/225, d1=0.699, d2=0.739 g=0.677, a1=34, a2=0\n",
            ">217/225, d1=0.697, d2=0.735 g=0.681, a1=44, a2=0\n",
            ">218/225, d1=0.698, d2=0.731 g=0.685, a1=30, a2=0\n",
            ">219/225, d1=0.701, d2=0.729 g=0.687, a1=5, a2=0\n",
            ">220/225, d1=0.705, d2=0.725 g=0.690, a1=10, a2=0\n",
            ">221/225, d1=0.706, d2=0.722 g=0.696, a1=10, a2=0\n",
            ">222/225, d1=0.703, d2=0.724 g=0.690, a1=15, a2=0\n",
            ">223/225, d1=0.700, d2=0.725 g=0.690, a1=15, a2=0\n",
            ">224/225, d1=0.702, d2=0.725 g=0.688, a1=15, a2=0\n",
            ">225/225, d1=0.696, d2=0.725 g=0.690, a1=44, a2=0\n",
            "finished training\n"
          ],
          "name": "stdout"
        }
      ]
    },
    {
      "cell_type": "code",
      "metadata": {
        "colab": {
          "base_uri": "https://localhost:8080/"
        },
        "id": "xNtZAHU3N3Fy",
        "outputId": "02724cfe-3e69-4dcd-85f9-ffc494071b37"
      },
      "source": [
        "\"\"\"\n",
        "getting the model to draw something,\n",
        "this can be done seperately, if put in another file\n",
        "\"\"\"\n",
        "\n",
        "model = load_model('WARgenerator.h5', compile = False)\n",
        "# generate images\n",
        "latent_points = generate_latent_points(latent_dim, 1)\n",
        " # has quite the think about it\n",
        "predictionInstance = model.predict(latent_points)\n",
        "print(\"done thinking\")"
      ],
      "execution_count": 42,
      "outputs": [
        {
          "output_type": "stream",
          "text": [
            "done thinking\n"
          ],
          "name": "stdout"
        }
      ]
    },
    {
      "cell_type": "code",
      "metadata": {
        "colab": {
          "base_uri": "https://localhost:8080/",
          "height": 35
        },
        "id": "WKqyPOEFN3Fy",
        "outputId": "726be238-262b-472e-fba6-94575a31c9f3"
      },
      "source": [
        "\"\"\"\n",
        "Training of existing model file:\n",
        "May not always want to run this cell\n",
        "\"\"\"\n",
        "\n",
        "'''\n",
        "n_epochs = 10\n",
        "train(model, discriminator, gan_model, dataset, latent_dim, n_epochs, n_batch)\n",
        "'''"
      ],
      "execution_count": 43,
      "outputs": [
        {
          "output_type": "execute_result",
          "data": {
            "application/vnd.google.colaboratory.intrinsic+json": {
              "type": "string"
            },
            "text/plain": [
              "'\\nn_epochs = 10\\ntrain(model, discriminator, gan_model, dataset, latent_dim, n_epochs, n_batch)\\n'"
            ]
          },
          "metadata": {
            "tags": []
          },
          "execution_count": 43
        }
      ]
    },
    {
      "cell_type": "code",
      "metadata": {
        "colab": {
          "base_uri": "https://localhost:8080/"
        },
        "id": "3zxxqpY4N3Fz",
        "outputId": "93b3e349-2a97-49bb-f68f-cab94bbc6ab7"
      },
      "source": [
        "\"\"\"\n",
        "getting the prediction directly from generator\n",
        "functionally the same as prediction instance\n",
        "\"\"\"\n",
        "\n",
        "xout = generate_fake_samples(generator, latent_dim, n_samples = 1)[0]\n",
        "# predictionInstance = model.predict(latent_points)\n",
        "# convert floats from ranges 0:1 to 0:255, so they can be blackness values in an image\n",
        "xout = predictionInstance*255 \n",
        "# print(xout) # this is diagnostic\n",
        "# np.shape(xout) # this is diagnostic\n",
        "flatXOut = xout.flatten()  \n",
        "# print(len(flatXOut)) # should be 40,000 # this is diagnostic\n",
        "arr_2d = np.reshape(flatXOut, (200, 200))\n",
        "# convert float array to ints\n",
        "array_int = abs(np.array(arr_2d, dtype='int')) \n",
        "print(np.shape(array_int)) # this is diagnostic\n",
        "array_int # this is diagnostic\n",
        "\n"
      ],
      "execution_count": 44,
      "outputs": [
        {
          "output_type": "stream",
          "text": [
            "(200, 200)\n"
          ],
          "name": "stdout"
        },
        {
          "output_type": "execute_result",
          "data": {
            "text/plain": [
              "array([[240, 246, 241, ..., 216, 202, 217],\n",
              "       [241, 241, 250, ..., 210, 232, 229],\n",
              "       [236, 242, 241, ..., 125, 228, 208],\n",
              "       ...,\n",
              "       [233, 238, 232, ..., 154, 245, 244],\n",
              "       [237, 244, 213, ..., 238, 230, 236],\n",
              "       [210, 236, 204, ..., 234, 237, 217]])"
            ]
          },
          "metadata": {
            "tags": []
          },
          "execution_count": 44
        }
      ]
    },
    {
      "cell_type": "code",
      "metadata": {
        "colab": {
          "base_uri": "https://localhost:8080/"
        },
        "id": "VwjCHdy_N3Fz",
        "outputId": "93fbe16a-401a-400f-8f48-f07a566f8a9b"
      },
      "source": [
        "'''\n",
        "\"\"\"\n",
        "getting the prediction into something useful\n",
        "\"\"\"\n",
        "\n",
        "# convert floats from ranges 0:1 to 0:255, so they can be blackness values in an image\n",
        "xout = predictionInstance*255 \n",
        "# print(xout) # this is diagnostic\n",
        "# np.shape(xout) # this is diagnostic\n",
        "flatXOut = xout.flatten()  \n",
        "# print(len(flatXOut)) # should be 40,000 # this is diagnostic\n",
        "arr_2d = np.reshape(flatXOut, (200, 200))\n",
        "# convert float array to ints\n",
        "array_int = abs(np.array(arr_2d, dtype='int')) \n",
        "# print(np.shape(array_int)) # this is diagnostic\n",
        "# array_int # this is diagnostic\n",
        "\n",
        "'''\n",
        "()"
      ],
      "execution_count": 47,
      "outputs": [
        {
          "output_type": "execute_result",
          "data": {
            "text/plain": [
              "()"
            ]
          },
          "metadata": {
            "tags": []
          },
          "execution_count": 47
        }
      ]
    },
    {
      "cell_type": "code",
      "metadata": {
        "colab": {
          "base_uri": "https://localhost:8080/",
          "height": 52
        },
        "id": "M8MAwV3CN3Fz",
        "outputId": "d50d8fb2-61f3-4998-9acc-23a38f8d94d0"
      },
      "source": [
        "\"\"\"\n",
        "draw the image of the output array\n",
        "\"\"\"\n",
        "\n",
        "img = Image.fromarray(array_int.astype(np.uint8))\n",
        "\n",
        "\"\"\"\n",
        "diagnostic check of the output image\n",
        "\n",
        "# code:\n",
        "print(\"Format: {0}\\nSize: {1}\\nMode: {2}\".format(img.format, \n",
        "    img.size, img.mode)) \n",
        "# end code\n",
        "\"\"\"\n"
      ],
      "execution_count": 45,
      "outputs": [
        {
          "output_type": "execute_result",
          "data": {
            "application/vnd.google.colaboratory.intrinsic+json": {
              "type": "string"
            },
            "text/plain": [
              "'\\ndiagnostic check of the output image\\n\\n# code:\\nprint(\"Format: {0}\\nSize: {1}\\nMode: {2}\".format(img.format, \\n    img.size, img.mode)) \\n# end code\\n'"
            ]
          },
          "metadata": {
            "tags": []
          },
          "execution_count": 45
        }
      ]
    },
    {
      "cell_type": "code",
      "metadata": {
        "id": "zu834qShN3Fz"
      },
      "source": [
        "\"\"\"\n",
        "convert the image file to a recognisable and portable format\n",
        "write out the image file to somewhere in the local machine\n",
        "\"\"\"\n",
        "\n",
        "pathOut = '/content/drive/MyDrive/BnWOut/batch = 40'\n",
        "imgRGB = img.convert(mode=\"RGB\")\n",
        "imgRGB.save(pathOut+\"/dreamParamTest1.jpg\")"
      ],
      "execution_count": 46,
      "outputs": []
    },
    {
      "cell_type": "code",
      "metadata": {
        "id": "Vs4ar1aGN3F0"
      },
      "source": [
        ""
      ],
      "execution_count": null,
      "outputs": []
    }
  ]
}