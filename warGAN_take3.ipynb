{
  "nbformat": 4,
  "nbformat_minor": 0,
  "metadata": {
    "kernelspec": {
      "name": "python385jvsc74a57bd0fd02e15c5e8f5ee6cdee280f4db237d56a650e119945c60bf91993c8f57ebb6a",
      "display_name": "Python 3.8.5 64-bit (conda)"
    },
    "language_info": {
      "codemirror_mode": {
        "name": "ipython",
        "version": 3
      },
      "file_extension": ".py",
      "mimetype": "text/x-python",
      "name": "python",
      "nbconvert_exporter": "python",
      "pygments_lexer": "ipython3",
      "version": "3.8.5-final"
    },
    "colab": {
      "name": "warGAN_take3.ipynb",
      "provenance": []
    }
  },
  "cells": [
    {
      "cell_type": "markdown",
      "metadata": {
        "id": "jvkgrkaeN3Fr"
      },
      "source": [
        "# GAN IMPLEMENTATION FROM COMMUNITY INQ28 MODELS\n",
        "- Code Author: Jack MacCormick\n",
        "- Instagram: argelpaints: https://www.instagram.com/argelpaints/\n",
        "- Done in partnership with 28MAG: https://28-mag.com/\n",
        "\n",
        "**GAN Training and Development Code:**\n",
        "\n",
        "This project is the use of GAN style Machine Learning algorithms to generate new images, based off the works of the Warhammer INQ28 community. These images are the dreamings of an abhorent AI system, who's task is to understand \"what is INQ28\" it knows not the world, it's surroundings, only those offered to it, and the endless void"
      ]
    },
    {
      "cell_type": "code",
      "metadata": {
        "id": "EjdWA9soN_Nl"
      },
      "source": [
        "\n",
        "from google.colab import drive\n",
        "drive.mount('/content/drive')\n"
      ],
      "execution_count": null,
      "outputs": []
    },
    {
      "cell_type": "code",
      "metadata": {
        "id": "a2XzmLphN3Fs"
      },
      "source": [
        "# import necessary packages\n",
        "import os\n",
        "import matplotlib.pyplot as plt\n",
        "import matplotlib.image as mpimg\n",
        "import pylab\n",
        "import h5py\n",
        "\n",
        "from PIL import Image\n",
        "import pandas as pd\n",
        "import tensorflow as tf\n",
        "from tensorflow import keras\n",
        "\n",
        "import numpy as np\n",
        "from numpy import expand_dims\n",
        "from numpy import zeros\n",
        "from numpy import ones\n",
        "from numpy.random import random\n",
        "from numpy.random import randint\n",
        "\n",
        "from tensorflow.keras.optimizers import Adam\n",
        "from tensorflow.keras.layers import Dense\n",
        "from tensorflow.keras.layers import Reshape\n",
        "from tensorflow.keras.layers import Flatten\n",
        "from tensorflow.keras.layers import Conv2D\n",
        "from tensorflow.keras.layers import Conv2DTranspose\n",
        "from tensorflow.keras.layers import LeakyReLU\n",
        "from tensorflow.keras.layers import Dropout\n",
        "from tensorflow.keras.layers import Input\n",
        "from tensorflow.keras.layers import Embedding\n",
        "from tensorflow.keras.layers import Concatenate\n",
        "\n",
        "from tensorflow.keras.models import Sequential\n",
        "from tensorflow.keras.models import load_model\n",
        "from tensorflow.keras.models import Model\n",
        "\n",
        "from tqdm import tqdm \n",
        "from IPython import display "
      ],
      "execution_count": null,
      "outputs": []
    },
    {
      "cell_type": "code",
      "metadata": {
        "id": "H61lp3EwPM9U"
      },
      "source": [
        "learningRate = 0.00015\n",
        "n_epochs = 50 # number of \"generations\"\n",
        "n_batch = 20 # no. of images in each batch"
      ],
      "execution_count": null,
      "outputs": []
    },
    {
      "cell_type": "code",
      "metadata": {
        "id": "R0tR1JKEN3Ft"
      },
      "source": [
        "\"\"\"\n",
        "define the standalone discriminator model\n",
        "key value is the learning rate lr\n",
        "\n",
        "\"\"\"\n",
        "\n",
        "def define_discriminator(in_shape=(200,200,1)):\n",
        "\t# weight initialization\n",
        "\tinit = 'uniform'\n",
        "\t# define model\n",
        "\tmodel = Sequential()\n",
        "\t# downsample to 100x100\n",
        "\tmodel.add(Conv2D(64, (4,4), strides=(2,2), padding='same', kernel_initializer=init, input_shape=in_shape))\n",
        "\tmodel.add(LeakyReLU(alpha=0.2))\n",
        "\t# downsample to 50x50\n",
        "\tmodel.add(Conv2D(64, (4,4), strides=(2,2), padding='same', kernel_initializer=init))\n",
        "\tmodel.add(LeakyReLU(alpha=0.2))\n",
        "\t# classifier\n",
        "\tmodel.add(Flatten())\n",
        "\tmodel.add(Dense(1, activation='sigmoid'))\n",
        "\t# compile model\n",
        "\topt = Adam(lr=0.0001, beta_1=0.5)\n",
        "\tmodel.compile(loss='binary_crossentropy', optimizer=opt, metrics=['accuracy'])\n",
        "\treturn model"
      ],
      "execution_count": null,
      "outputs": []
    },
    {
      "cell_type": "code",
      "metadata": {
        "id": "TFYvDa97N3Ft"
      },
      "source": [
        "def define_generator(latent_dim):\n",
        "\t# weight initialization\n",
        "\tinit = 'uniform'\n",
        "\t# define model\n",
        "\tmodel = Sequential()\n",
        "\t# foundation for 50x50 image\n",
        "\tn_nodes = 256 * 50 * 50\n",
        "\tmodel.add(Dense(n_nodes, kernel_initializer=init, input_dim=latent_dim))\n",
        "\tmodel.add(LeakyReLU(alpha=0.2))\n",
        "\tmodel.add(Reshape((50, 50, 256)))\n",
        "\t# upsample to 100x100\n",
        "\tmodel.add(Conv2DTranspose(256, (4,4), strides=(2,2), padding='same', kernel_initializer=init))\n",
        "\tmodel.add(LeakyReLU(alpha=0.2))\n",
        "\t# upsample to 200x200\n",
        "\tmodel.add(Conv2DTranspose(256, (4,4), strides=(2,2), padding='same', kernel_initializer=init))\n",
        "\tmodel.add(LeakyReLU(alpha=0.2))\n",
        "\t# output 28x28x1\n",
        "\tmodel.add(Conv2D(1, (7,7), activation='tanh', padding='same', kernel_initializer=init))\n",
        "\treturn model"
      ],
      "execution_count": null,
      "outputs": []
    },
    {
      "cell_type": "code",
      "metadata": {
        "id": "kbo8AaESN3Fu"
      },
      "source": [
        "# define the combined generator and discriminator model, for updating the generator\n",
        "def define_gan(generator, discriminator):\n",
        "\t# make weights in the discriminator not trainable\n",
        "\tdiscriminator.trainable = False\n",
        "\t# connect them\n",
        "\tmodel = Sequential()\n",
        "\t# add generator\n",
        "\tmodel.add(generator)\n",
        "\t# add the discriminator\n",
        "\tmodel.add(discriminator)\n",
        "\t# compile model\n",
        "\topt = Adam(lr=learningRate, beta_1=0.7) # lr=00015 seems to be the ideal value for training\n",
        "\tmodel.compile(loss='binary_crossentropy', optimizer=opt)\n",
        "\treturn model"
      ],
      "execution_count": null,
      "outputs": []
    },
    {
      "cell_type": "code",
      "metadata": {
        "id": "cDcW9TnyN3Fu"
      },
      "source": [
        "# default values of standardised images\n",
        "preferred_width = 200\n",
        "preferred_height = 200"
      ],
      "execution_count": null,
      "outputs": []
    },
    {
      "cell_type": "code",
      "metadata": {
        "id": "BFcQwtFrPkiA"
      },
      "source": [
        "pathSource = '/content/drive/MyDrive/BnWDrive'\n",
        "dir_list = os.listdir(pathSource)"
      ],
      "execution_count": null,
      "outputs": []
    },
    {
      "cell_type": "code",
      "metadata": {
        "id": "Xl3i_0GAOZJ_"
      },
      "source": [
        "images = []\n",
        "# for image in pathSource, convert them to BnW, save that to pathDest, then add standardised version to images[]\n",
        "for image in dir_list:\n",
        "    img = Image.open(pathSource+\"/\"+image)\n",
        "    imgArray = np.array(img) # int array of pixels\n",
        "    imgArray = imgArray.astype(float)/255 # standardise values to be 0:255\n",
        "    images.append(imgArray)\n"
      ],
      "execution_count": null,
      "outputs": []
    },
    {
      "cell_type": "code",
      "metadata": {
        "id": "QAzoYSfVN3Fw"
      },
      "source": [
        "# setting a param for proportion of data to keep for testing\n",
        "testingSize = int(len(dir_list)/5)\n",
        "\n",
        "X_testing = np.array(images[0:testingSize])\n",
        "X_training = np.array(images[testingSize:len(images)])\n",
        "\n",
        "\"\"\"\n",
        "# this is all diagnostic checks to ensure data is passed correctly to training and testing splits\n",
        "\n",
        "# code:\n",
        "print(np.shape(X_testing)) \n",
        "print(X_testing[1]) # checking it's correctly put something into the testing variable\n",
        "print(np.shape(X_training))\n",
        "# end code\n",
        "\"\"\"\n",
        "\n",
        "()"
      ],
      "execution_count": null,
      "outputs": []
    },
    {
      "cell_type": "code",
      "metadata": {
        "id": "FV21XCFMN3Fw"
      },
      "source": [
        "# select real samples\n",
        "def generate_real_samples(dataset, n_samples):\n",
        "\t# choose random instances\n",
        "\tix = randint(0, dataset.shape[0], n_samples)\n",
        "\t# select images\n",
        "\tX = dataset[ix]\n",
        "\t# generate class labels\n",
        "\ty = ones((n_samples, 1))\n",
        "\treturn X, y"
      ],
      "execution_count": null,
      "outputs": []
    },
    {
      "cell_type": "code",
      "metadata": {
        "id": "qmw5tCJbN3Fw"
      },
      "source": [
        "# generate points in latent space as input for the generator\n",
        "def generate_latent_points(latent_dim, n_samples):\n",
        "\t# generate points in the latent space\n",
        "\tx_input = np.random.uniform(low=0.0, high=1.0, size=(latent_dim, n_samples))\n",
        "\t# reshape into a batch of inputs for the network\n",
        "\tx_input = x_input.reshape(n_samples, latent_dim)\n",
        "\treturn x_input"
      ],
      "execution_count": null,
      "outputs": []
    },
    {
      "cell_type": "code",
      "metadata": {
        "id": "kGzrSa3GN3Fx"
      },
      "source": [
        "# use the generator to generate n fake examples, with class labels\n",
        "def generate_fake_samples(generator, latent_dim, n_samples):\n",
        "\t# generate points in latent space\n",
        "\tx_input = abs(generate_latent_points(latent_dim, n_samples))\n",
        "\t# predict outputs\n",
        "\tX = generator.predict(x_input)\n",
        "\t# create class labels\n",
        "\ty = zeros((n_samples, 1))\n",
        "\treturn X, y"
      ],
      "execution_count": null,
      "outputs": []
    },
    {
      "cell_type": "code",
      "metadata": {
        "id": "AOzLxk6-N3Fx"
      },
      "source": [
        "\"\"\"\n",
        "trains the generator and discriminator parts of the GAN\n",
        "saves the net model to a .h5 file\n",
        "\"\"\"\n",
        "\n",
        "def train(g_model, d_model, gan_model, dataset, latent_dim, n_epochs, n_batch):\n",
        "\t# calculate the number of batches per epoch\n",
        "\tbat_per_epo = int(dataset.shape[0] / n_batch)\n",
        "\t# calculate the total iterations based on batch and epoch\n",
        "\tn_steps = bat_per_epo * n_epochs\n",
        "\t# calculate the number of samples in half a batch\n",
        "\thalf_batch = int(n_batch / 2)\n",
        "\t# prepare lists for storing stats each iteration\n",
        "\td1_hist, d2_hist, g_hist, a1_hist, a2_hist = list(), list(), list(), list(), list()\n",
        "\t# manually enumerate epochs\n",
        "\tfor i in range(n_steps):\n",
        "\t\t# get randomly selected 'real' samples\n",
        "\t\tX_real, y_real = generate_real_samples(dataset, half_batch)\n",
        "\t\t# update discriminator model weights\n",
        "\t\td_loss1, d_acc1 = d_model.train_on_batch(X_real, y_real)\n",
        "\t\t# generate 'fake' examples\n",
        "\t\tX_fake, y_fake = generate_fake_samples(g_model, latent_dim, half_batch)\n",
        "\t\t# update discriminator model weights\n",
        "\t\td_loss2, d_acc2 = d_model.train_on_batch(X_fake, y_fake)\n",
        "\t\t# prepare points in latent space as input for the generator\n",
        "\t\tX_gan = generate_latent_points(latent_dim, n_batch)\n",
        "\t\t# create inverted labels for the fake samples\n",
        "\t\ty_gan = ones((n_batch, 1))\n",
        "\t\t# update the generator via the discriminator's error\n",
        "\t\tg_loss = gan_model.train_on_batch(X_gan, y_gan)\n",
        "\t\t# summarize loss on this batch\n",
        "\t\tprint('>%d/%d, d1=%.3f, d2=%.3f g=%.3f, a1=%d, a2=%d' %\n",
        "\t\t\t(i+1, n_steps, d_loss1, d_loss2, g_loss, int(100*d_acc1), int(100*d_acc2)))\n",
        "\t\t# record history\n",
        "\t\td1_hist.append(d_loss1)\n",
        "\t\td2_hist.append(d_loss2)\n",
        "\t\tg_hist.append(g_loss)\n",
        "\t\ta1_hist.append(d_acc1)\n",
        "\t\ta2_hist.append(d_acc2)\n",
        "\t\tif (i%10==0): # save frequency, this should really be a smart value\n",
        "\t\t\tg_model.save('WARgenerator.h5')\t\t\n",
        "\tprint(\"finished training\")\n",
        "\t# this is the generator that can be called externally\n",
        "\tg_model.save('WARgenerator.h5') \n",
        "\t\"\"\"\n",
        "\tSave is also embed this within the loop every so many itterations\n",
        "\tso something is saved/retained if user needs to abort while long training processes are occuring or if something fails, if the kernel or local machine crashes or if local machine looses power\n",
        "\t\"\"\""
      ],
      "execution_count": null,
      "outputs": []
    },
    {
      "cell_type": "code",
      "metadata": {
        "id": "BE2TwB57N3Fx"
      },
      "source": [
        "\"\"\"\n",
        "set up the data into something the GAN can use in training\n",
        "\"\"\"\n",
        "\n",
        "X_train=np.reshape(X_training,(X_training.shape[0], X_training.shape[1],X_training.shape[2],1))"
      ],
      "execution_count": null,
      "outputs": []
    },
    {
      "cell_type": "code",
      "metadata": {
        "tags": [],
        "id": "i7NTO10VN3Fy"
      },
      "source": [
        "\"\"\"\n",
        "set up for training and training call\n",
        "this can take some time depending on number of epochs\n",
        "recommend running on a GPU\n",
        "\"\"\"\n",
        "\n",
        "# training params\n",
        "latent_dim = 50 # size of the latent space\n",
        "# training above 50 generations, results stabilise, and no change is noticable\n",
        "\n",
        "# create the discriminator\n",
        "discriminator = define_discriminator()\n",
        "# create the generator\n",
        "generator = define_generator(latent_dim)\n",
        "# create the gan\n",
        "gan_model = define_gan(generator, discriminator)\n",
        "# load image data\n",
        "dataset = X_train\n",
        "\n",
        "# train model\n",
        "# train(generator, discriminator, gan_model, dataset, latent_dim, n_epochs, n_batch)"
      ],
      "execution_count": null,
      "outputs": []
    },
    {
      "cell_type": "code",
      "metadata": {
        "id": "xNtZAHU3N3Fy"
      },
      "source": [
        "\"\"\"\n",
        "getting the model to draw something,\n",
        "this can be done seperately, if put in another file\n",
        "\"\"\"\n",
        "\n",
        "''' currently doing in func\n",
        "\n",
        "model = load_model('WARgenerator.h5', compile = False)\n",
        "# generate images\n",
        "latent_points = generate_latent_points(latent_dim, 1)\n",
        " # has quite the think about it\n",
        "predictionInstance = model.predict(latent_points)\n",
        "print(\"done thinking\")\n",
        "'''"
      ],
      "execution_count": null,
      "outputs": []
    },
    {
      "cell_type": "code",
      "metadata": {
        "id": "WKqyPOEFN3Fy"
      },
      "source": [
        "\"\"\"\n",
        "Training of existing model file:\n",
        "May not always want to run this cell\n",
        "\"\"\"\n",
        "\n",
        "'''\n",
        "n_epochs = 10\n",
        "train(model, discriminator, gan_model, dataset, latent_dim, n_epochs, n_batch)\n",
        "'''"
      ],
      "execution_count": null,
      "outputs": []
    },
    {
      "cell_type": "code",
      "metadata": {
        "id": "3zxxqpY4N3Fz"
      },
      "source": [
        "\"\"\"\n",
        "getting the prediction directly from generator\n",
        "functionally the same as prediction instance\n",
        "\"\"\"\n",
        "\n",
        "''' currently doing in func\n",
        "\n",
        "xout = generate_fake_samples(generator, latent_dim, n_samples = 1)[0]\n",
        "# predictionInstance = model.predict(latent_points)\n",
        "# convert floats from ranges 0:1 to 0:255, so they can be blackness values in an image\n",
        "xout = predictionInstance*255 \n",
        "# print(xout) # this is diagnostic\n",
        "# np.shape(xout) # this is diagnostic\n",
        "flatXOut = xout.flatten()  \n",
        "# print(len(flatXOut)) # should be 40,000 # this is diagnostic\n",
        "arr_2d = np.reshape(flatXOut, (200, 200))\n",
        "# convert float array to ints\n",
        "array_int = abs(np.array(arr_2d, dtype='int')) \n",
        "print(np.shape(array_int)) # this is diagnostic\n",
        "array_int # this is diagnostic\n",
        "\n",
        "'''"
      ],
      "execution_count": null,
      "outputs": []
    },
    {
      "cell_type": "code",
      "metadata": {
        "id": "M8MAwV3CN3Fz"
      },
      "source": [
        "\"\"\"\n",
        "draw the image of the output array\n",
        "\"\"\"\n",
        "\n",
        "''' currently doing in func\n",
        "img = Image.fromarray(array_int.astype(np.uint8))\n",
        "\n",
        "'''\n",
        "\n",
        "\"\"\"\n",
        "diagnostic check of the output image\n",
        "\n",
        "# code:\n",
        "print(\"Format: {0}\\nSize: {1}\\nMode: {2}\".format(img.format, \n",
        "    img.size, img.mode)) \n",
        "# end code\n",
        "\"\"\"\n"
      ],
      "execution_count": null,
      "outputs": []
    },
    {
      "cell_type": "code",
      "metadata": {
        "id": "zu834qShN3Fz"
      },
      "source": [
        "\"\"\"\n",
        "convert the image file to a recognisable and portable format\n",
        "write out the image file to somewhere in the local machine\n",
        "\"\"\"\n",
        "\n",
        "''' currently doing in func\n",
        "\n",
        "pathOut = '/content/drive/MyDrive/BnWOut/batch = 40'\n",
        "imgRGB = img.convert(mode=\"RGB\")\n",
        "imgRGB.save(pathOut+\"/dreamParamTest1.jpg\")\n",
        "'''"
      ],
      "execution_count": null,
      "outputs": []
    },
    {
      "cell_type": "code",
      "metadata": {
        "id": "Vs4ar1aGN3F0"
      },
      "source": [
        "\"\"\"\n",
        "image generation function\n",
        "can be called solo, compounds all of the post processing into one function, but designed for use in loops\n",
        "does away with all the diagnostics\n",
        "\"\"\"\n",
        "\n",
        "def getInstanceImage(pathOut, imgName):\n",
        "    model = load_model('WARgenerator.h5', compile = False)\n",
        "    # generate images\n",
        "    latent_points = generate_latent_points(latent_dim, 1)\n",
        "    # has quite the think about it\n",
        "    predictionInstance = model.predict(latent_points)\n",
        "\n",
        "    # xout = generate_fake_samples(generator, latent_dim, n_samples = 1)[0] # this is being shadowed, I think\n",
        "    # convert floats from ranges 0:1 to 0:255, so they can be blackness values in an image\n",
        "    xout = predictionInstance*255 \n",
        "    flatXOut = xout.flatten()  \n",
        "    arr_2d = np.reshape(flatXOut, (200, 200))\n",
        "    # convert float array to ints\n",
        "    array_int = abs(np.array(arr_2d, dtype='int'))\n",
        "    img = Image.fromarray(array_int.astype(np.uint8))\n",
        "    \n",
        "    # saving image\n",
        "    imgRGB = img.convert(mode=\"RGB\")\n",
        "    imgRGB.save(pathOut+\"/\"+imgName+\".jpg\")\n"
      ],
      "execution_count": null,
      "outputs": []
    },
    {
      "cell_type": "code",
      "metadata": {
        "id": "2Nz_LaICN-Gk"
      },
      "source": [
        "\"\"\"\n",
        "trains the generator and discriminator parts of the GAN\n",
        "saves the net model to a .h5 file\n",
        "\"\"\"\n",
        "\n",
        "def trainAndSave(g_model, d_model, gan_model, dataset, latent_dim, n_epochs, n_batch, filePath, imagePrefix):\n",
        "    # calculate the number of batches per epoch\n",
        "    bat_per_epo = int(dataset.shape[0] / n_batch)\n",
        "    # calculate the total iterations based on batch and epoch\n",
        "    n_steps = bat_per_epo * n_epochs\n",
        "    # calculate the number of samples in half a batch\n",
        "    half_batch = int(n_batch / 2)\n",
        "    # prepare lists for storing stats each iteration\n",
        "    d1_hist, d2_hist, g_hist, a1_hist, a2_hist = list(), list(), list(), list(), list()\n",
        "    # manually enumerate epochs\n",
        "    for i in range(n_steps):\n",
        "      # get randomly selected 'real' samples\n",
        "      X_real, y_real = generate_real_samples(dataset, half_batch)\n",
        "      # update discriminator model weights\n",
        "      d_loss1, d_acc1 = d_model.train_on_batch(X_real, y_real)\n",
        "      # generate 'fake' examples\n",
        "      X_fake, y_fake = generate_fake_samples(g_model, latent_dim, half_batch)\n",
        "      # update discriminator model weights\n",
        "      d_loss2, d_acc2 = d_model.train_on_batch(X_fake, y_fake)\n",
        "      # prepare points in latent space as input for the generator\n",
        "      X_gan = generate_latent_points(latent_dim, n_batch)\n",
        "      # create inverted labels for the fake samples\n",
        "      y_gan = ones((n_batch, 1))\n",
        "      # update the generator via the discriminator's error\n",
        "      g_loss = gan_model.train_on_batch(X_gan, y_gan)\n",
        "      # summarize loss on this batch\n",
        "      print('>%d/%d, d1=%.3f, d2=%.3f g=%.3f, a1=%d, a2=%d' %\n",
        "\t\t\t(i+1, n_steps, d_loss1, d_loss2, g_loss, int(100*d_acc1), int(100*d_acc2)))\n",
        "      # record history\n",
        "      d1_hist.append(d_loss1)\n",
        "      d2_hist.append(d_loss2)\n",
        "      g_hist.append(g_loss)\n",
        "      a1_hist.append(d_acc1)\n",
        "      a2_hist.append(d_acc2)\n",
        "      if (i%10==0): # save frequency, this should really be a smart value\n",
        "        g_model.save('WARgenerator.h5')\n",
        "        getInstanceImage(filePath, (imagePrefix+\"_step_\"+str(i)))\n",
        "      print(\"finished training\")\n",
        "\t  # this is the generator that can be called externally\n",
        "    g_model.save('WARgenerator.h5')\n",
        " \n",
        " "
      ],
      "execution_count": null,
      "outputs": []
    },
    {
      "cell_type": "code",
      "metadata": {
        "id": "Y_LEAgtxOg0t"
      },
      "source": [
        "trainAndSave(generator, discriminator, gan_model, dataset, latent_dim, n_epochs, n_batch, '/content/drive/MyDrive/BnWOut/batch = 20', \"batchTrain\")\n"
      ],
      "execution_count": null,
      "outputs": []
    }
  ]
}